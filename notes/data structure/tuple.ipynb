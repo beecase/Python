{
 "cells": [
  {
   "cell_type": "markdown",
   "id": "e38f4056",
   "metadata": {},
   "source": [
    "Tuples"
   ]
  },
  {
   "cell_type": "code",
   "execution_count": 2,
   "id": "b57363d4",
   "metadata": {},
   "outputs": [
    {
     "name": "stdout",
     "output_type": "stream",
     "text": [
      "(1, 2, 3, 4)\n",
      "<class 'tuple'>\n"
     ]
    }
   ],
   "source": [
    "t=(1,2,3,4)\n",
    "print(t)\n",
    "print(type(t))"
   ]
  },
  {
   "cell_type": "code",
   "execution_count": 5,
   "id": "4f194aba",
   "metadata": {},
   "outputs": [
    {
     "name": "stdout",
     "output_type": "stream",
     "text": [
      "(2, 1)\n"
     ]
    }
   ],
   "source": [
    "#swap\n",
    "x,y=1,2\n",
    "x,y=y,x\n",
    "print((x,y))"
   ]
  },
  {
   "cell_type": "code",
   "execution_count": 6,
   "id": "f9e26d5f",
   "metadata": {},
   "outputs": [
    {
     "name": "stdout",
     "output_type": "stream",
     "text": [
      "3\n"
     ]
    }
   ],
   "source": [
    "#indexing\n",
    "t=(1,2,3,4)\n",
    "print(t[2])\n"
   ]
  },
  {
   "cell_type": "code",
   "execution_count": 7,
   "id": "b0b99d84",
   "metadata": {},
   "outputs": [
    {
     "data": {
      "text/plain": [
       "(1, 3, 5)"
      ]
     },
     "execution_count": 7,
     "metadata": {},
     "output_type": "execute_result"
    }
   ],
   "source": [
    "#slicing\n",
    "t1=(1,2,3,4,5,6,7,)\n",
    "t1[0:6:2]"
   ]
  },
  {
   "cell_type": "code",
   "execution_count": 8,
   "id": "f401c9d2",
   "metadata": {},
   "outputs": [
    {
     "name": "stdout",
     "output_type": "stream",
     "text": [
      "(1, 2, 3, 4, 5, 6, 7, 8, 9, 10)\n"
     ]
    }
   ],
   "source": [
    "#add\n",
    "t1=(1,2,3,4,5,6,7,)\n",
    "t2=(8,9,10)\n",
    "t=t1+t2\n",
    "print(t)"
   ]
  },
  {
   "cell_type": "code",
   "execution_count": 9,
   "id": "7e7884f6",
   "metadata": {},
   "outputs": [
    {
     "name": "stdout",
     "output_type": "stream",
     "text": [
      "5\n"
     ]
    }
   ],
   "source": [
    "#unpacking a tuple\n",
    "d,e,f=5,6,7\n",
    "print(d)"
   ]
  },
  {
   "cell_type": "code",
   "execution_count": 12,
   "id": "1ba68ce3",
   "metadata": {},
   "outputs": [
    {
     "name": "stdout",
     "output_type": "stream",
     "text": [
      "3\n",
      "1\n"
     ]
    }
   ],
   "source": [
    "#tuple method(.count(x),.index(x))\n",
    "t3=(1,2,3,4,5,6,6,6,7,8,9)\n",
    "print(t3.count(6))\n",
    "print(t3.index(2))"
   ]
  },
  {
   "cell_type": "code",
   "execution_count": 14,
   "id": "4660f441",
   "metadata": {},
   "outputs": [
    {
     "name": "stdout",
     "output_type": "stream",
     "text": [
      "True\n",
      "False\n"
     ]
    }
   ],
   "source": [
    "#checking membership\n",
    "t3=(1,2,3,4,5,6,6,6,7,8,9)\n",
    "print(6 in t3)\n",
    "print(8 not in t3)"
   ]
  },
  {
   "cell_type": "code",
   "execution_count": 15,
   "id": "7fe23131",
   "metadata": {},
   "outputs": [
    {
     "name": "stdout",
     "output_type": "stream",
     "text": [
      "(1, 2, 3, 4, 5, 6, 6, 6, 7, 8, 9, 1, 2, 3, 4, 5, 6, 6, 6, 7, 8, 9)\n"
     ]
    }
   ],
   "source": [
    "#repeating a tuple\n",
    "t3=(1,2,3,4,5,6,6,6,7,8,9)\n",
    "print(t3 *2)"
   ]
  },
  {
   "cell_type": "markdown",
   "id": "d574ab94",
   "metadata": {},
   "source": [
    "BYTE ARRAY"
   ]
  },
  {
   "cell_type": "code",
   "execution_count": null,
   "id": "70334d22",
   "metadata": {},
   "outputs": [
    {
     "name": "stdout",
     "output_type": "stream",
     "text": [
      "Hello world\n"
     ]
    }
   ],
   "source": [
    "\n",
    "data=bytearray(b\"Hello world\")\n",
    "data\n",
    "string_data=data.decode(\"utf-8\")\n",
    "print(string_data)"
   ]
  },
  {
   "cell_type": "markdown",
   "id": "fe70acce",
   "metadata": {},
   "source": [
    "SET"
   ]
  },
  {
   "cell_type": "code",
   "execution_count": 19,
   "id": "56447141",
   "metadata": {},
   "outputs": [
    {
     "data": {
      "text/plain": [
       "{1, 2, 3, 5, 7, 9}"
      ]
     },
     "execution_count": 19,
     "metadata": {},
     "output_type": "execute_result"
    }
   ],
   "source": [
    "roll={5,5,2,3,1,9,7,7}\n",
    "roll"
   ]
  },
  {
   "cell_type": "markdown",
   "id": "3a4dcf89",
   "metadata": {},
   "source": [
    "Frozen Set"
   ]
  },
  {
   "cell_type": "code",
   "execution_count": 3,
   "id": "0c4c9361",
   "metadata": {},
   "outputs": [
    {
     "name": "stdout",
     "output_type": "stream",
     "text": [
      "frozenset({1, 2, 3, 4})\n",
      "<class 'frozenset'>\n"
     ]
    }
   ],
   "source": [
    "#frozenset-\n",
    "rol=frozenset({1,2,3,4,2,3,2})\n",
    "print(rol)\n",
    "print(type(rol))"
   ]
  },
  {
   "cell_type": "markdown",
   "id": "1c38a96c",
   "metadata": {},
   "source": []
  }
 ],
 "metadata": {
  "kernelspec": {
   "display_name": "Python 3",
   "language": "python",
   "name": "python3"
  },
  "language_info": {
   "codemirror_mode": {
    "name": "ipython",
    "version": 3
   },
   "file_extension": ".py",
   "mimetype": "text/x-python",
   "name": "python",
   "nbconvert_exporter": "python",
   "pygments_lexer": "ipython3",
   "version": "3.13.0"
  }
 },
 "nbformat": 4,
 "nbformat_minor": 5
}
