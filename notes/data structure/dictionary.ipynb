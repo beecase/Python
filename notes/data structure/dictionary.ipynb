{
 "cells": [
  {
   "cell_type": "markdown",
   "id": "18ee9f12",
   "metadata": {},
   "source": [
    "Dictionary"
   ]
  },
  {
   "cell_type": "code",
   "execution_count": null,
   "id": "b32b70fe",
   "metadata": {},
   "outputs": [
    {
     "data": {
      "text/plain": [
       "{'name': 'Bikesh', 'roll': 17, 'faculty': 'bds'}"
      ]
     },
     "execution_count": 3,
     "metadata": {},
     "output_type": "execute_result"
    }
   ],
   "source": [
    "# creating\n",
    "std={'name':'Bikesh','roll':17,'faculty':'bds'}\n",
    "std\n",
    "\n",
    "\n",
    "\n"
   ]
  },
  {
   "cell_type": "code",
   "execution_count": 4,
   "id": "26b4b401",
   "metadata": {},
   "outputs": [
    {
     "name": "stdout",
     "output_type": "stream",
     "text": [
      "{'name': 'Bikesh', 'roll': 7, 'faculty': 'BDS'}\n"
     ]
    }
   ],
   "source": [
    "#updating\n",
    "std.update({'roll':7,'faculty':'BDS'})\n",
    "print(std)"
   ]
  },
  {
   "cell_type": "markdown",
   "id": "417dc367",
   "metadata": {},
   "source": [
    "DELETION:"
   ]
  },
  {
   "cell_type": "code",
   "execution_count": 6,
   "id": "cf0c548a",
   "metadata": {},
   "outputs": [
    {
     "data": {
      "text/plain": [
       "{'roll': 17, 'faculty': 'bds'}"
      ]
     },
     "execution_count": 6,
     "metadata": {},
     "output_type": "execute_result"
    }
   ],
   "source": [
    "st={'name':'Messi','roll':17,'faculty':'bds'}\n",
    "del st['name']\n",
    "st"
   ]
  },
  {
   "cell_type": "code",
   "execution_count": 15,
   "id": "479217fe",
   "metadata": {},
   "outputs": [
    {
     "name": "stdout",
     "output_type": "stream",
     "text": [
      "17\n",
      "{'name': 'Aegon', 'faculty': 'bds'}\n"
     ]
    }
   ],
   "source": [
    "di={'name':'Aegon','roll':17,'faculty':'bds'}\n",
    "rolle=di.pop('roll')\n",
    "print(rolle)\n",
    "print(di)\n",
    "\n",
    "\n"
   ]
  },
  {
   "cell_type": "code",
   "execution_count": 8,
   "id": "3d615008",
   "metadata": {},
   "outputs": [
    {
     "data": {
      "text/plain": [
       "('faculty', 'bds')"
      ]
     },
     "execution_count": 8,
     "metadata": {},
     "output_type": "execute_result"
    }
   ],
   "source": [
    "doc={'name':'Aegon','roll':17,'faculty':'bds'}\n",
    "last=doc.popitem()\n",
    "last\n"
   ]
  }
 ],
 "metadata": {
  "kernelspec": {
   "display_name": "Python 3",
   "language": "python",
   "name": "python3"
  },
  "language_info": {
   "codemirror_mode": {
    "name": "ipython",
    "version": 3
   },
   "file_extension": ".py",
   "mimetype": "text/x-python",
   "name": "python",
   "nbconvert_exporter": "python",
   "pygments_lexer": "ipython3",
   "version": "3.13.0"
  }
 },
 "nbformat": 4,
 "nbformat_minor": 5
}
