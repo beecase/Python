{
 "cells": [
  {
   "cell_type": "code",
   "execution_count": null,
   "id": "04a1657e-4ca9-4073-9312-4dfd8f716117",
   "metadata": {},
   "outputs": [],
   "source": [
    "LIST\n"
   ]
  },
  {
   "cell_type": "code",
   "execution_count": 24,
   "id": "45fc661b-f8ac-4362-8d94-049e94d4d098",
   "metadata": {},
   "outputs": [
    {
     "name": "stdout",
     "output_type": "stream",
     "text": [
      "[1, 2, 3, 4, 5, 6, 7, 8, 9, 10]\n"
     ]
    }
   ],
   "source": [
    "#concatenation\n",
    "p=[1,2,3,4,5]\n",
    "q=[6,7,8,9,10]\n",
    "print(p+q)"
   ]
  },
  {
   "cell_type": "code",
   "execution_count": 1,
   "id": "81ec1bfc-670f-4e94-bcbb-c991ae4513bc",
   "metadata": {},
   "outputs": [
    {
     "name": "stdout",
     "output_type": "stream",
     "text": [
      "[3, 5, 7]\n"
     ]
    }
   ],
   "source": [
    "#Slicing\n",
    "x=[1,2,3,4,5,6,7,8,9,10]\n",
    "print(x[2:8:2])"
   ]
  },
  {
   "cell_type": "code",
   "execution_count": 2,
   "id": "8b2de95f-1e26-492c-b9b6-cf88bdb7278e",
   "metadata": {},
   "outputs": [
    {
     "data": {
      "text/plain": [
       "[1, 2, 3, 4, 5, 6, 7, 8, 9, 10, [2, 4]]"
      ]
     },
     "execution_count": 2,
     "metadata": {},
     "output_type": "execute_result"
    }
   ],
   "source": [
    "#.append(x)\n",
    "x.append([2,4])\n",
    "x"
   ]
  },
  {
   "cell_type": "code",
   "execution_count": 3,
   "id": "42549e81-f028-43a3-a5d6-b21fc5d856da",
   "metadata": {},
   "outputs": [
    {
     "data": {
      "text/plain": [
       "[1, 2, 3, 4, 5, 6, 7, 8, 9, 10, [2, 4], 'R', 'A', 'M']"
      ]
     },
     "execution_count": 3,
     "metadata": {},
     "output_type": "execute_result"
    }
   ],
   "source": [
    "#.extend()\n",
    "x.extend(\"RAM\")\n",
    "x"
   ]
  },
  {
   "cell_type": "code",
   "execution_count": 9,
   "id": "437a3166-7260-4312-a0e8-83247d36649d",
   "metadata": {},
   "outputs": [
    {
     "data": {
      "text/plain": [
       "[1, 5, 3, 4, 5, 6, 7, 8, 9, 10, [2, 4], 11, 'R', 'A']"
      ]
     },
     "execution_count": 9,
     "metadata": {},
     "output_type": "execute_result"
    }
   ],
   "source": [
    "#.insert(i,x)\n",
    "x.insert(11,11)\n",
    "x"
   ]
  },
  {
   "cell_type": "code",
   "execution_count": 6,
   "id": "ae658ac8-c29a-430f-95cc-8a11c6c67b50",
   "metadata": {},
   "outputs": [
    {
     "data": {
      "text/plain": [
       "[1, 2, 5, 3, 4, 5, 6, 7, 8, 9, 10, [2, 4], 'R', 'A', 'M']"
      ]
     },
     "execution_count": 6,
     "metadata": {},
     "output_type": "execute_result"
    }
   ],
   "source": [
    "#.remove()\n",
    "x.remove(11)\n",
    "x"
   ]
  },
  {
   "cell_type": "code",
   "execution_count": 7,
   "id": "36691b93-d872-4e25-b43c-30e2eb73549f",
   "metadata": {},
   "outputs": [
    {
     "data": {
      "text/plain": [
       "[1, 2, 5, 3, 4, 5, 6, 7, 8, 9, 10, [2, 4], 'R', 'A']"
      ]
     },
     "execution_count": 7,
     "metadata": {},
     "output_type": "execute_result"
    }
   ],
   "source": [
    "#.pop()\n",
    "x.pop()\n",
    "x"
   ]
  },
  {
   "cell_type": "code",
   "execution_count": 8,
   "id": "d0b6e906-682a-494f-8cc1-ddfb93330f7c",
   "metadata": {},
   "outputs": [
    {
     "data": {
      "text/plain": [
       "[1, 5, 3, 4, 5, 6, 7, 8, 9, 10, [2, 4], 'R', 'A']"
      ]
     },
     "execution_count": 8,
     "metadata": {},
     "output_type": "execute_result"
    }
   ],
   "source": [
    "#.pop(i)\n",
    "x.pop(1)\n",
    "x"
   ]
  },
  {
   "cell_type": "code",
   "execution_count": 11,
   "id": "6fcd3a9c-2a2e-4ed8-95c9-9872d7fed66b",
   "metadata": {},
   "outputs": [
    {
     "data": {
      "text/plain": [
       "[]"
      ]
     },
     "execution_count": 11,
     "metadata": {},
     "output_type": "execute_result"
    }
   ],
   "source": [
    "#.clear()\n",
    "b=[2,3,2,3,4,5,6,6,6,7,8,9,9,9]\n",
    "b.clear()\n",
    "b\n"
   ]
  },
  {
   "cell_type": "code",
   "execution_count": 13,
   "id": "fd74eab8-58f1-4753-a17c-c20b3a9f85ee",
   "metadata": {},
   "outputs": [
    {
     "data": {
      "text/plain": [
       "[7, 6, 8, 9, 1, 4, 33, 2, 5, 1, 1]"
      ]
     },
     "execution_count": 13,
     "metadata": {},
     "output_type": "execute_result"
    }
   ],
   "source": [
    "#.reverse()\n",
    "a=[1,1,5,2,33,4,1,9,8,6,7]\n",
    "a.reverse()\n",
    "a"
   ]
  },
  {
   "cell_type": "code",
   "execution_count": 14,
   "id": "a1285786-542e-4b2f-aaa1-bcc3319a0db4",
   "metadata": {},
   "outputs": [
    {
     "data": {
      "text/plain": [
       "[1, 1, 5, 2, 33, 4, 1, 9, 8, 6, 7]"
      ]
     },
     "execution_count": 14,
     "metadata": {},
     "output_type": "execute_result"
    }
   ],
   "source": [
    "a.reverse()\n",
    "a\n"
   ]
  },
  {
   "cell_type": "code",
   "execution_count": 15,
   "id": "e5e60b00-ea9e-4392-8160-90bfeb1eb8ae",
   "metadata": {},
   "outputs": [
    {
     "data": {
      "text/plain": [
       "[1, 1, 1, 2, 4, 5, 6, 7, 8, 9, 33]"
      ]
     },
     "execution_count": 15,
     "metadata": {},
     "output_type": "execute_result"
    }
   ],
   "source": [
    "#.sort()\n",
    "a.sort()\n",
    "a"
   ]
  },
  {
   "cell_type": "code",
   "execution_count": 17,
   "id": "3bef1085-9f71-469f-b02a-6897fe07261f",
   "metadata": {},
   "outputs": [
    {
     "name": "stdout",
     "output_type": "stream",
     "text": [
      "3\n"
     ]
    }
   ],
   "source": [
    "#.count\n",
    "print(a.count(1))\n"
   ]
  },
  {
   "cell_type": "code",
   "execution_count": 18,
   "id": "b54367b3-1a5e-45de-bdbd-553227d99631",
   "metadata": {},
   "outputs": [
    {
     "name": "stdout",
     "output_type": "stream",
     "text": [
      "11\n"
     ]
    }
   ],
   "source": [
    "#\n",
    "#len()\n",
    "print(len(a))"
   ]
  },
  {
   "cell_type": "code",
   "execution_count": 19,
   "id": "c22f3a29-e3d0-4728-adc0-6461453c5be4",
   "metadata": {},
   "outputs": [
    {
     "name": "stdout",
     "output_type": "stream",
     "text": [
      "33\n",
      "1\n"
     ]
    }
   ],
   "source": [
    "#max() and min(a)\n",
    "print(max(a))\n",
    "print(min(a))\n",
    "\n"
   ]
  },
  {
   "cell_type": "code",
   "execution_count": 20,
   "id": "c4fa50f3-f5e1-4911-8dbc-71dc48749536",
   "metadata": {},
   "outputs": [
    {
     "name": "stdout",
     "output_type": "stream",
     "text": [
      "77\n"
     ]
    }
   ],
   "source": [
    "#sum()\n",
    "print(sum(a))"
   ]
  },
  {
   "cell_type": "code",
   "execution_count": 21,
   "id": "afb38f02-5d1f-4ed2-8faf-4a2b88d2d3bc",
   "metadata": {},
   "outputs": [
    {
     "name": "stdout",
     "output_type": "stream",
     "text": [
      "[1, 1, 1, 2, 4, 5, 6, 7, 8, 9, 33]\n"
     ]
    }
   ],
   "source": [
    "#sorted()\n",
    "print(sorted(a))\n"
   ]
  },
  {
   "cell_type": "markdown",
   "id": "facd7499",
   "metadata": {},
   "source": [
    "STRING\n"
   ]
  },
  {
   "cell_type": "code",
   "execution_count": 5,
   "id": "a6f1b293",
   "metadata": {},
   "outputs": [
    {
     "name": "stdout",
     "output_type": "stream",
     "text": [
      "Hello,Bikesh\n"
     ]
    }
   ],
   "source": [
    "#Formatting using .format() and string method\n",
    "name=\"Bikesh\"\n",
    "print(f\"Hello,{name}\")\n"
   ]
  },
  {
   "cell_type": "code",
   "execution_count": 9,
   "id": "b6b470c5",
   "metadata": {},
   "outputs": [
    {
     "name": "stdout",
     "output_type": "stream",
     "text": [
      "PYTHON\n"
     ]
    }
   ],
   "source": [
    "#.upper()\n",
    "name=\"Python\"\n",
    "name=name.upper()\n",
    "print(name)"
   ]
  },
  {
   "cell_type": "code",
   "execution_count": 10,
   "id": "f7efff85",
   "metadata": {},
   "outputs": [
    {
     "data": {
      "text/plain": [
       "'rcb'"
      ]
     },
     "execution_count": 10,
     "metadata": {},
     "output_type": "execute_result"
    }
   ],
   "source": [
    "#.lower()\n",
    "n=\"RCB\"\n",
    "n=n.lower()\n",
    "n"
   ]
  },
  {
   "cell_type": "code",
   "execution_count": 13,
   "id": "65794075",
   "metadata": {},
   "outputs": [
    {
     "name": "stdout",
     "output_type": "stream",
     "text": [
      "Hey Siri\n"
     ]
    }
   ],
   "source": [
    "#.title()\n",
    "no=\"hey siri\"\n",
    "no=no.title()\n",
    "print(no)"
   ]
  },
  {
   "cell_type": "code",
   "execution_count": 14,
   "id": "8bd673c5",
   "metadata": {},
   "outputs": [
    {
     "name": "stdout",
     "output_type": "stream",
     "text": [
      "Hola peter\n"
     ]
    }
   ],
   "source": [
    "#.capitalize\n",
    "a=\"hola peter\"\n",
    "a= a.capitalize()\n",
    "print(a)"
   ]
  },
  {
   "cell_type": "code",
   "execution_count": 17,
   "id": "1641b1f7",
   "metadata": {},
   "outputs": [
    {
     "name": "stdout",
     "output_type": "stream",
     "text": [
      "VISCA bARCA\n"
     ]
    }
   ],
   "source": [
    "#swapcase()\n",
    "b=\"visca Barca\"\n",
    "b=b.swapcase()\n",
    "print(b)"
   ]
  },
  {
   "cell_type": "code",
   "execution_count": 18,
   "id": "67eab1cb",
   "metadata": {},
   "outputs": [
    {
     "name": "stdout",
     "output_type": "stream",
     "text": [
      "True\n"
     ]
    }
   ],
   "source": [
    "#isalpha()\n",
    "c=\"barcelona\"\n",
    "print(c.isalpha())"
   ]
  },
  {
   "cell_type": "code",
   "execution_count": 20,
   "id": "6b273ef8",
   "metadata": {},
   "outputs": [
    {
     "name": "stdout",
     "output_type": "stream",
     "text": [
      "True\n"
     ]
    }
   ],
   "source": [
    "#isdigit()\n",
    "d=\"10\"\n",
    "print(d.isdigit())"
   ]
  },
  {
   "cell_type": "code",
   "execution_count": 21,
   "id": "3b994ad5",
   "metadata": {},
   "outputs": [
    {
     "name": "stdout",
     "output_type": "stream",
     "text": [
      "True\n"
     ]
    }
   ],
   "source": [
    "#.startswith('xyz')\n",
    "e=\"xyzabc\"\n",
    "print(e.startswith('xyz'))"
   ]
  },
  {
   "cell_type": "code",
   "execution_count": 22,
   "id": "9e39e6b0",
   "metadata": {},
   "outputs": [
    {
     "name": "stdout",
     "output_type": "stream",
     "text": [
      "True\n"
     ]
    }
   ],
   "source": [
    "#.endswith('xyz')\n",
    "f=\"abcxyz\"\n",
    "print(f.endswith('xyz'))"
   ]
  },
  {
   "cell_type": "code",
   "execution_count": 23,
   "id": "56b17f64",
   "metadata": {},
   "outputs": [
    {
     "name": "stdout",
     "output_type": "stream",
     "text": [
      "2\n"
     ]
    }
   ],
   "source": [
    "#.count('x')\n",
    "g=\"poop\"\n",
    "print(g.count('o'))"
   ]
  }
 ],
 "metadata": {
  "kernelspec": {
   "display_name": "Python 3",
   "language": "python",
   "name": "python3"
  },
  "language_info": {
   "codemirror_mode": {
    "name": "ipython",
    "version": 3
   },
   "file_extension": ".py",
   "mimetype": "text/x-python",
   "name": "python",
   "nbconvert_exporter": "python",
   "pygments_lexer": "ipython3",
   "version": "3.13.0"
  }
 },
 "nbformat": 4,
 "nbformat_minor": 5
}
