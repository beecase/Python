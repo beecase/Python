{
 "cells": [
  {
   "cell_type": "code",
   "execution_count": 1,
   "id": "9c048445",
   "metadata": {},
   "outputs": [
    {
     "name": "stdout",
     "output_type": "stream",
     "text": [
      "[25, 36, 49, 64]\n"
     ]
    }
   ],
   "source": [
    "num =[5,6,7,8]\n",
    "sqNum = [x**2 for x in num ]\n",
    "print(sqNum)"
   ]
  },
  {
   "cell_type": "code",
   "execution_count": 2,
   "id": "40385361",
   "metadata": {},
   "outputs": [
    {
     "name": "stdout",
     "output_type": "stream",
     "text": [
      "[4, 16, 36, 64]\n"
     ]
    }
   ],
   "source": [
    "numb = [1,2,3,4,5,6,7,8,9]\n",
    "newList = list(x*x for x in numb if x % 2 == 0)\n",
    "print(newList)"
   ]
  },
  {
   "cell_type": "code",
   "execution_count": 3,
   "id": "d218bb15",
   "metadata": {},
   "outputs": [
    {
     "name": "stdout",
     "output_type": "stream",
     "text": [
      "[1.0, 2.0, 3.0, 4.0]\n"
     ]
    }
   ],
   "source": [
    "listt = [1,4,9,16]\n",
    "newListt = [x**0.5 for x in listt]\n",
    "print(newListt)"
   ]
  },
  {
   "cell_type": "code",
   "execution_count": 4,
   "id": "7bcc62ef",
   "metadata": {},
   "outputs": [
    {
     "name": "stdout",
     "output_type": "stream",
     "text": [
      "[1, 2, 3]\n"
     ]
    }
   ],
   "source": [
    "listtt = [-5,-4,-3,-2,-1,0,1,2,3]\n",
    "newListtt = [x for x in listtt if x > 0]\n",
    "print(newListtt)"
   ]
  },
  {
   "cell_type": "code",
   "execution_count": 5,
   "id": "c4c5381a",
   "metadata": {},
   "outputs": [
    {
     "name": "stdout",
     "output_type": "stream",
     "text": [
      "['A', 'B', 'C', 'D', 'E', 'F', 'G', 'H', 'I', 'J']\n"
     ]
    }
   ],
   "source": [
    "alphaList = ['a', 'b', 'c', 'd', 'e', 'f', 'g', 'h', 'i', 'j']\n",
    "upperAlpha = [x.upper() for x in alphaList]\n",
    "print(upperAlpha)"
   ]
  },
  {
   "cell_type": "code",
   "execution_count": 6,
   "id": "67997423",
   "metadata": {},
   "outputs": [
    {
     "name": "stdout",
     "output_type": "stream",
     "text": [
      "['SUN', 'MOON', 'SKY', 'STAR', 'PLANET', 'EARTH']\n"
     ]
    }
   ],
   "source": [
    "wordList = ['sun', 'moon', 'sky', 'star', 'planet', 'earth']\n",
    "upperWord = [x.upper() for x in wordList]\n",
    "print(upperWord)"
   ]
  },
  {
   "cell_type": "code",
   "execution_count": 3,
   "id": "a034d3e5",
   "metadata": {},
   "outputs": [
    {
     "name": "stdout",
     "output_type": "stream",
     "text": [
      "<generator object get_squares at 0x00000284362BFE60>\n",
      "[0, 1, 4, 9, 16]\n"
     ]
    }
   ],
   "source": [
    "#generator\n",
    "def get_squares(n):\n",
    "    yield[x**2 for x in range(n)]\n",
    "squares= get_squares(5)\n",
    "print(squares)\n",
    "for i in squares:\n",
    "    print(i)    "
   ]
  }
 ],
 "metadata": {
  "kernelspec": {
   "display_name": "Python 3",
   "language": "python",
   "name": "python3"
  },
  "language_info": {
   "codemirror_mode": {
    "name": "ipython",
    "version": 3
   },
   "file_extension": ".py",
   "mimetype": "text/x-python",
   "name": "python",
   "nbconvert_exporter": "python",
   "pygments_lexer": "ipython3",
   "version": "3.13.0"
  }
 },
 "nbformat": 4,
 "nbformat_minor": 5
}
