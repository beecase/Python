{
 "cells": [
  {
   "cell_type": "markdown",
   "id": "7c37b184-2bd1-40f7-bca0-226bfc6162da",
   "metadata": {},
   "source": [
    " # Numpy\n",
    "- Numerical Python\n",
    "- homogeneous collection of elements\n",
    "- numerical and scientific computing\n",
    "- vectorization operation\n",
    "- support multidimensional data(matrix)\n",
    "\n"
   ]
  },
  {
   "cell_type": "code",
   "execution_count": 1,
   "id": "fac65d69-87c8-4404-b049-57f78eb97e2c",
   "metadata": {},
   "outputs": [
    {
     "name": "stdout",
     "output_type": "stream",
     "text": [
      "Collecting numpy\n",
      "  Downloading numpy-2.3.1-cp313-cp313-win_amd64.whl.metadata (60 kB)\n",
      "Downloading numpy-2.3.1-cp313-cp313-win_amd64.whl (12.7 MB)\n",
      "   ---------------------------------------- 0.0/12.7 MB ? eta -:--:--\n",
      "   ---------------------------------------- 0.0/12.7 MB ? eta -:--:--\n",
      "   ---------------------------------------- 0.0/12.7 MB ? eta -:--:--\n",
      "    --------------------------------------- 0.3/12.7 MB ? eta -:--:--\n",
      "    --------------------------------------- 0.3/12.7 MB ? eta -:--:--\n",
      "   - -------------------------------------- 0.5/12.7 MB 557.0 kB/s eta 0:00:22\n",
      "   -- ------------------------------------- 0.8/12.7 MB 704.3 kB/s eta 0:00:17\n",
      "   -- ------------------------------------- 0.8/12.7 MB 704.3 kB/s eta 0:00:17\n",
      "   --- ------------------------------------ 1.0/12.7 MB 659.0 kB/s eta 0:00:18\n",
      "   --- ------------------------------------ 1.0/12.7 MB 659.0 kB/s eta 0:00:18\n",
      "   ---- ----------------------------------- 1.3/12.7 MB 672.0 kB/s eta 0:00:17\n",
      "   ---- ----------------------------------- 1.3/12.7 MB 672.0 kB/s eta 0:00:17\n",
      "   ---- ----------------------------------- 1.3/12.7 MB 672.0 kB/s eta 0:00:17\n",
      "   ---- ----------------------------------- 1.6/12.7 MB 621.1 kB/s eta 0:00:18\n",
      "   ----- ---------------------------------- 1.8/12.7 MB 684.9 kB/s eta 0:00:16\n",
      "   ------ --------------------------------- 2.1/12.7 MB 695.9 kB/s eta 0:00:16\n",
      "   ------- -------------------------------- 2.4/12.7 MB 718.2 kB/s eta 0:00:15\n",
      "   ------- -------------------------------- 2.4/12.7 MB 718.2 kB/s eta 0:00:15\n",
      "   -------- ------------------------------- 2.6/12.7 MB 707.2 kB/s eta 0:00:15\n",
      "   -------- ------------------------------- 2.6/12.7 MB 707.2 kB/s eta 0:00:15\n",
      "   --------- ------------------------------ 2.9/12.7 MB 720.8 kB/s eta 0:00:14\n",
      "   --------- ------------------------------ 3.1/12.7 MB 730.7 kB/s eta 0:00:14\n",
      "   ---------- ----------------------------- 3.4/12.7 MB 745.4 kB/s eta 0:00:13\n",
      "   ---------- ----------------------------- 3.4/12.7 MB 745.4 kB/s eta 0:00:13\n",
      "   ------------ --------------------------- 3.9/12.7 MB 791.8 kB/s eta 0:00:12\n",
      "   ------------ --------------------------- 3.9/12.7 MB 791.8 kB/s eta 0:00:12\n",
      "   ------------- -------------------------- 4.2/12.7 MB 805.8 kB/s eta 0:00:11\n",
      "   -------------- ------------------------- 4.5/12.7 MB 818.7 kB/s eta 0:00:11\n",
      "   -------------- ------------------------- 4.7/12.7 MB 812.0 kB/s eta 0:00:10\n",
      "   --------------- ------------------------ 5.0/12.7 MB 826.5 kB/s eta 0:00:10\n",
      "   --------------- ------------------------ 5.0/12.7 MB 826.5 kB/s eta 0:00:10\n",
      "   --------------- ------------------------ 5.0/12.7 MB 826.5 kB/s eta 0:00:10\n",
      "   ---------------- ----------------------- 5.2/12.7 MB 796.4 kB/s eta 0:00:10\n",
      "   ---------------- ----------------------- 5.2/12.7 MB 796.4 kB/s eta 0:00:10\n",
      "   ----------------- ---------------------- 5.5/12.7 MB 794.1 kB/s eta 0:00:10\n",
      "   ----------------- ---------------------- 5.5/12.7 MB 794.1 kB/s eta 0:00:10\n",
      "   ------------------ --------------------- 5.8/12.7 MB 785.0 kB/s eta 0:00:09\n",
      "   ------------------ --------------------- 6.0/12.7 MB 787.1 kB/s eta 0:00:09\n",
      "   ------------------- -------------------- 6.3/12.7 MB 791.5 kB/s eta 0:00:09\n",
      "   -------------------- ------------------- 6.6/12.7 MB 804.9 kB/s eta 0:00:08\n",
      "   -------------------- ------------------- 6.6/12.7 MB 804.9 kB/s eta 0:00:08\n",
      "   --------------------- ------------------ 6.8/12.7 MB 795.6 kB/s eta 0:00:08\n",
      "   --------------------- ------------------ 6.8/12.7 MB 795.6 kB/s eta 0:00:08\n",
      "   ---------------------- ----------------- 7.1/12.7 MB 787.4 kB/s eta 0:00:08\n",
      "   ---------------------- ----------------- 7.1/12.7 MB 787.4 kB/s eta 0:00:08\n",
      "   ----------------------- ---------------- 7.3/12.7 MB 788.5 kB/s eta 0:00:07\n",
      "   ----------------------- ---------------- 7.3/12.7 MB 788.5 kB/s eta 0:00:07\n",
      "   ----------------------- ---------------- 7.6/12.7 MB 781.3 kB/s eta 0:00:07\n",
      "   ----------------------- ---------------- 7.6/12.7 MB 781.3 kB/s eta 0:00:07\n",
      "   ------------------------ --------------- 7.9/12.7 MB 769.7 kB/s eta 0:00:07\n",
      "   ------------------------ --------------- 7.9/12.7 MB 769.7 kB/s eta 0:00:07\n",
      "   ------------------------- -------------- 8.1/12.7 MB 763.4 kB/s eta 0:00:07\n",
      "   ------------------------- -------------- 8.1/12.7 MB 763.4 kB/s eta 0:00:07\n",
      "   -------------------------- ------------- 8.4/12.7 MB 755.3 kB/s eta 0:00:06\n",
      "   --------------------------- ------------ 8.7/12.7 MB 761.5 kB/s eta 0:00:06\n",
      "   ---------------------------- ----------- 8.9/12.7 MB 765.7 kB/s eta 0:00:05\n",
      "   ---------------------------- ----------- 8.9/12.7 MB 765.7 kB/s eta 0:00:05\n",
      "   ---------------------------- ----------- 9.2/12.7 MB 762.3 kB/s eta 0:00:05\n",
      "   ----------------------------- ---------- 9.4/12.7 MB 769.5 kB/s eta 0:00:05\n",
      "   ------------------------------ --------- 9.7/12.7 MB 777.0 kB/s eta 0:00:04\n",
      "   ------------------------------- -------- 10.0/12.7 MB 785.8 kB/s eta 0:00:04\n",
      "   -------------------------------- ------- 10.2/12.7 MB 794.5 kB/s eta 0:00:04\n",
      "   -------------------------------- ------- 10.5/12.7 MB 798.8 kB/s eta 0:00:03\n",
      "   -------------------------------- ------- 10.5/12.7 MB 798.8 kB/s eta 0:00:03\n",
      "   --------------------------------- ------ 10.7/12.7 MB 797.9 kB/s eta 0:00:03\n",
      "   ---------------------------------- ----- 11.0/12.7 MB 806.0 kB/s eta 0:00:03\n",
      "   ----------------------------------- ---- 11.3/12.7 MB 812.1 kB/s eta 0:00:02\n",
      "   ------------------------------------ --- 11.5/12.7 MB 813.8 kB/s eta 0:00:02\n",
      "   ------------------------------------- -- 11.8/12.7 MB 819.7 kB/s eta 0:00:02\n",
      "   ------------------------------------- -- 12.1/12.7 MB 821.6 kB/s eta 0:00:01\n",
      "   -------------------------------------- - 12.3/12.7 MB 828.1 kB/s eta 0:00:01\n",
      "   -------------------------------------- - 12.3/12.7 MB 828.1 kB/s eta 0:00:01\n",
      "   ---------------------------------------- 12.7/12.7 MB 831.6 kB/s eta 0:00:00\n",
      "Installing collected packages: numpy\n",
      "Successfully installed numpy-2.3.1\n",
      "Note: you may need to restart the kernel to use updated packages.\n"
     ]
    },
    {
     "name": "stderr",
     "output_type": "stream",
     "text": [
      "\n",
      "[notice] A new release of pip is available: 24.2 -> 25.1.1\n",
      "[notice] To update, run: python.exe -m pip install --upgrade pip\n"
     ]
    }
   ],
   "source": [
    "pip install numpy"
   ]
  },
  {
   "cell_type": "code",
   "execution_count": 2,
   "id": "abc56b49-d4e2-4007-8cf3-4e6c409ffbfb",
   "metadata": {},
   "outputs": [],
   "source": [
    "import numpy as n\n"
   ]
  },
  {
   "cell_type": "code",
   "execution_count": 4,
   "id": "cdd97d8f-a10a-4c4e-b2c6-1614f338b45b",
   "metadata": {},
   "outputs": [
    {
     "name": "stdout",
     "output_type": "stream",
     "text": [
      "[5 7 9 4 2]\n",
      "<class 'numpy.ndarray'>\n"
     ]
    }
   ],
   "source": [
    "x=n.array([5,7,9,4,2])\n",
    "print(x)\n",
    "print(type(x))"
   ]
  },
  {
   "cell_type": "markdown",
   "id": "36dbd2b8-9667-4c50-a975-c76cab595275",
   "metadata": {},
   "source": [
    "# Attributes(shape,size,ndim,dtype)\n",
    "# Functions()\n"
   ]
  },
  {
   "cell_type": "code",
   "execution_count": 6,
   "id": "17aebfd7-1c4c-4a1f-b338-2418881a7174",
   "metadata": {},
   "outputs": [
    {
     "name": "stdout",
     "output_type": "stream",
     "text": [
      "(5,)\n"
     ]
    }
   ],
   "source": [
    "#shape\n",
    "print(x.shape)"
   ]
  },
  {
   "cell_type": "code",
   "execution_count": 10,
   "id": "17ed69c7-f0d4-49f2-ab57-16258aff66fb",
   "metadata": {},
   "outputs": [
    {
     "name": "stdout",
     "output_type": "stream",
     "text": [
      "[[2 4]\n",
      " [6 9]]\n",
      "(2, 2)\n"
     ]
    }
   ],
   "source": [
    "y=n.array([[2,4],[6,9]])\n",
    "print(y)\n",
    "print(y.shape)"
   ]
  },
  {
   "cell_type": "code",
   "execution_count": 11,
   "id": "e0c438e0-e79d-41cd-8ce5-645a31379c2d",
   "metadata": {},
   "outputs": [
    {
     "name": "stdout",
     "output_type": "stream",
     "text": [
      "4\n"
     ]
    }
   ],
   "source": [
    "#size\n",
    "print(y.size)"
   ]
  },
  {
   "cell_type": "code",
   "execution_count": 12,
   "id": "542f457f-055f-413d-a45e-991b8cadaffc",
   "metadata": {},
   "outputs": [
    {
     "name": "stdout",
     "output_type": "stream",
     "text": [
      "2\n"
     ]
    }
   ],
   "source": [
    "#ndim-no.of dimensions\n",
    "print(y.ndim)"
   ]
  },
  {
   "cell_type": "markdown",
   "id": "8f12b42d-d97f-48fb-a02d-814fa246fcaf",
   "metadata": {},
   "source": [
    "#dtype\n",
    "print(y.dtype)"
   ]
  },
  {
   "cell_type": "markdown",
   "id": "1a3d4304-0c10-4a8e-b7bc-424e3eb7182e",
   "metadata": {},
   "source": [
    "# Functions in numpy array\n",
    "1. n.sum()\n",
    "2. n.prod()\n",
    "3. n.max()\n",
    "4. n.min()\n",
    "5. n.mean()\n",
    "6. n.std()\n",
    "7. n.median()\n",
    "8. n.sort()\n",
    "9. n.unique()\n"
   ]
  },
  {
   "cell_type": "code",
   "execution_count": 14,
   "id": "a172aa4c-0b83-4092-b417-4577cb323b5a",
   "metadata": {},
   "outputs": [
    {
     "name": "stdout",
     "output_type": "stream",
     "text": [
      "21\n"
     ]
    }
   ],
   "source": [
    "#sum\n",
    "print(n.sum(y))"
   ]
  },
  {
   "cell_type": "code",
   "execution_count": 15,
   "id": "24d3b97c-086f-47ff-8851-047df4722ea4",
   "metadata": {},
   "outputs": [
    {
     "name": "stdout",
     "output_type": "stream",
     "text": [
      "432\n"
     ]
    }
   ],
   "source": [
    "print(n.prod(y))"
   ]
  },
  {
   "cell_type": "code",
   "execution_count": 17,
   "id": "9afa8ad5-6db5-49ef-b942-a38fe87a9500",
   "metadata": {},
   "outputs": [
    {
     "name": "stdout",
     "output_type": "stream",
     "text": [
      "9\n",
      "2\n"
     ]
    }
   ],
   "source": [
    "print(n.max(y))\n",
    "print(n.min(y))"
   ]
  },
  {
   "cell_type": "code",
   "execution_count": 18,
   "id": "f34802dc-44ad-489b-ad16-092d3265b55d",
   "metadata": {},
   "outputs": [
    {
     "name": "stdout",
     "output_type": "stream",
     "text": [
      "5.25\n",
      "5.0\n",
      "2.5860201081971503\n"
     ]
    }
   ],
   "source": [
    "print(n.mean(y))\n",
    "print(n.median(y))\n",
    "print(n.std(y))"
   ]
  },
  {
   "cell_type": "code",
   "execution_count": 19,
   "id": "d0b50501-1e6e-4a2c-8ba7-0c1519eb05c2",
   "metadata": {},
   "outputs": [
    {
     "name": "stdout",
     "output_type": "stream",
     "text": [
      "[[2 4]\n",
      " [6 9]]\n"
     ]
    }
   ],
   "source": [
    "print(n.sort(y))"
   ]
  },
  {
   "cell_type": "code",
   "execution_count": 20,
   "id": "e32a179a-e8b1-4347-b714-f6465306a2bd",
   "metadata": {},
   "outputs": [
    {
     "name": "stdout",
     "output_type": "stream",
     "text": [
      "[2 4 6 9]\n"
     ]
    }
   ],
   "source": [
    "print(n.unique(y))"
   ]
  },
  {
   "cell_type": "markdown",
   "id": "d89fdb8b-da3f-455b-99b0-c343dc946db8",
   "metadata": {},
   "source": [
    "# Indexing and Slicing"
   ]
  },
  {
   "cell_type": "code",
   "execution_count": 21,
   "id": "92306b3c-ca7c-4867-a336-3e11eb5d7767",
   "metadata": {},
   "outputs": [],
   "source": [
    "x= n.array([5,7,9,2,4])\n"
   ]
  },
  {
   "cell_type": "code",
   "execution_count": 22,
   "id": "173b5767-73d7-4f37-8e2f-7685a35961c5",
   "metadata": {},
   "outputs": [
    {
     "name": "stdout",
     "output_type": "stream",
     "text": [
      "[7 9]\n"
     ]
    }
   ],
   "source": [
    "print(x[1:3])"
   ]
  },
  {
   "cell_type": "code",
   "execution_count": 23,
   "id": "7d07c4bf-8316-476f-b657-b53aaa191794",
   "metadata": {},
   "outputs": [
    {
     "name": "stdout",
     "output_type": "stream",
     "text": [
      "[5 7 9]\n"
     ]
    }
   ],
   "source": [
    "y=x[:3].copy()\n",
    "print(y)"
   ]
  },
  {
   "cell_type": "markdown",
   "id": "97bf6740-0bf7-499d-b3d0-7721a7bb35e5",
   "metadata": {},
   "source": [
    "# Array Arithmetic\n",
    "- n.add()\n",
    "- n.subtract()\n",
    "- n.multiply()\n",
    "- n.divide()\n",
    "- n.floor_divide()\n",
    "- n.mod()\n",
    "- n.power()\n",
    "- n.sqrt()"
   ]
  },
  {
   "cell_type": "code",
   "execution_count": 3,
   "id": "2ce90866-f06f-4a94-9301-08797915626d",
   "metadata": {},
   "outputs": [
    {
     "name": "stdout",
     "output_type": "stream",
     "text": [
      "[ 3  7 11 15 19]\n",
      "[ 3  7 11 15 19]\n"
     ]
    }
   ],
   "source": [
    "x=n.array([2,4,6,8,10])\n",
    "y=n.array([1,3,5,7,9])\n",
    "z=n.add(x,y)\n",
    "print(z)\n",
    "sum=x+y\n",
    "print(sum)"
   ]
  },
  {
   "cell_type": "code",
   "execution_count": 7,
   "id": "5982fa24-6e7e-434c-80ff-63f6c284f0ec",
   "metadata": {},
   "outputs": [
    {
     "name": "stdout",
     "output_type": "stream",
     "text": [
      "[1 1 1 1 1]\n"
     ]
    }
   ],
   "source": [
    "sub=n.subtract(x,y)\n",
    "print(sub)"
   ]
  },
  {
   "cell_type": "code",
   "execution_count": 9,
   "id": "97f926a0-e1d2-4089-928e-0f7f01775f28",
   "metadata": {},
   "outputs": [
    {
     "name": "stdout",
     "output_type": "stream",
     "text": [
      "[ 2 12 30 56 90]\n"
     ]
    }
   ],
   "source": [
    "mul=n.multiply(x,y)\n",
    "print(mul)"
   ]
  },
  {
   "cell_type": "code",
   "execution_count": 11,
   "id": "38d05e73-b4e1-491a-a5e9-62f1cafdebb6",
   "metadata": {},
   "outputs": [
    {
     "name": "stdout",
     "output_type": "stream",
     "text": [
      "[2.         1.33333333 1.2        1.14285714 1.11111111]\n"
     ]
    }
   ],
   "source": [
    "div=n.divide(x,y)\n",
    "print(div)"
   ]
  },
  {
   "cell_type": "code",
   "execution_count": 13,
   "id": "7fd59546-764f-4476-ab95-8a2429e5c2aa",
   "metadata": {},
   "outputs": [
    {
     "name": "stdout",
     "output_type": "stream",
     "text": [
      "[2 1 1 1 1]\n"
     ]
    }
   ],
   "source": [
    "floor=n.floor_divide(x,y)\n",
    "print(floor)"
   ]
  },
  {
   "cell_type": "code",
   "execution_count": 14,
   "id": "29a7978e-157e-4012-9690-7f6f519c6874",
   "metadata": {},
   "outputs": [
    {
     "name": "stdout",
     "output_type": "stream",
     "text": [
      "[0 1 1 1 1]\n"
     ]
    }
   ],
   "source": [
    "mod=n.mod(x,y)\n",
    "print(mod)"
   ]
  },
  {
   "cell_type": "code",
   "execution_count": 15,
   "id": "b252c990-2cf2-48a5-bc3f-cc933e6709cf",
   "metadata": {},
   "outputs": [
    {
     "name": "stdout",
     "output_type": "stream",
     "text": [
      "[         2         64       7776    2097152 1000000000]\n"
     ]
    }
   ],
   "source": [
    "pow=n.power(x,y)\n",
    "print(pow)"
   ]
  },
  {
   "cell_type": "code",
   "execution_count": 18,
   "id": "61463827-2ad8-40a2-be2b-2eed448240be",
   "metadata": {},
   "outputs": [
    {
     "name": "stdout",
     "output_type": "stream",
     "text": [
      "[1.41421356 2.         2.44948974 2.82842712 3.16227766]\n",
      "[1.         1.73205081 2.23606798 2.64575131 3.        ]\n"
     ]
    }
   ],
   "source": [
    "squarex=n.sqrt(x)\n",
    "print(squarex)\n",
    "squarey=n.sqrt(y)\n",
    "print(squarey)\n"
   ]
  },
  {
   "cell_type": "markdown",
   "id": "5d23357d-77b5-4300-964b-efa421518b63",
   "metadata": {},
   "source": [
    "Reshaping of arrays,iterating over arrays,broadcasting,creating numpy array from numerical range"
   ]
  },
  {
   "cell_type": "markdown",
   "id": "cbd04215-4e5b-49c4-b304-5a1e3609997b",
   "metadata": {},
   "source": [
    "# Creating numpy array from numerical range\n",
    "Use np.arange() or np.linspace(): and\n",
    "ones,\n",
    ",zeros\n",
    ",full\n"
   ]
  },
  {
   "cell_type": "code",
   "execution_count": 3,
   "id": "2c6de184-cd0e-48ea-b3f4-f031038ab35b",
   "metadata": {},
   "outputs": [
    {
     "name": "stdout",
     "output_type": "stream",
     "text": [
      "[[0]\n",
      " [2]\n",
      " [4]\n",
      " [6]\n",
      " [8]]\n",
      "[0.         0.11111111 0.22222222 0.33333333 0.44444444 0.55555556\n",
      " 0.66666667 0.77777778 0.88888889 1.        ]\n"
     ]
    }
   ],
   "source": [
    "import numpy as np\n",
    "\n",
    "# Using arange (similar to Python's range)\n",
    "arr1 = np.arange(0, 10, 2).reshape(5,1) #arange(start,stop,step)\n",
    "print(arr1)\n",
    "\n",
    "# Using linspace (specify number of values)\n",
    "arr2 = np.linspace(0, 1, 10)  \n",
    "print(arr2)\n"
   ]
  },
  {
   "cell_type": "code",
   "execution_count": null,
   "id": "64dc0c2c-d6f2-4c46-a008-1df09fd5e4f1",
   "metadata": {},
   "outputs": [],
   "source": []
  },
  {
   "cell_type": "code",
   "execution_count": 13,
   "id": "e875c069-e25e-4592-a9ce-dce7306ed8f3",
   "metadata": {},
   "outputs": [
    {
     "name": "stdout",
     "output_type": "stream",
     "text": [
      "[[1. 1. 1.]\n",
      " [1. 1. 1.]]\n",
      "[[0. 0. 0.]\n",
      " [0. 0. 0.]]\n",
      "[[5 5]\n",
      " [5 5]\n",
      " [5 5]\n",
      " [5 5]]\n"
     ]
    }
   ],
   "source": [
    "#Creates an array filled with 1s\n",
    "a= np.ones((2,3))\n",
    "print(a)\n",
    "#Creates an array filled with 0s\n",
    "b=np.zeros((2,3))\n",
    "print(b)\n",
    "# Creates an array filled with a specified value\n",
    "c=np.full((4,2),5)\n",
    "print(c)"
   ]
  },
  {
   "cell_type": "markdown",
   "id": "a653a03e-894c-482a-9f41-a1d0aeef1d03",
   "metadata": {},
   "source": [
    "# Reshaping of arrays\n",
    "  Use .reshape(rows, cols) to change dimensions"
   ]
  },
  {
   "cell_type": "code",
   "execution_count": 3,
   "id": "a488eccd-f34d-4a0a-ace2-1ce0da45f322",
   "metadata": {},
   "outputs": [
    {
     "name": "stdout",
     "output_type": "stream",
     "text": [
      "[[1 2 3]\n",
      " [4 5 6]]\n"
     ]
    }
   ],
   "source": [
    "a = np.arange(1,7)       \n",
    "b = a.reshape(2, 3).copy()\n",
    "print(b)"
   ]
  },
  {
   "cell_type": "markdown",
   "id": "9fa93676-56b1-49b0-84e8-b2df92129c41",
   "metadata": {},
   "source": [
    "# Iterating over arrays\n"
   ]
  },
  {
   "cell_type": "code",
   "execution_count": 6,
   "id": "ff8d9972-18ae-4f16-b067-358e3ff9ad30",
   "metadata": {},
   "outputs": [
    {
     "name": "stdout",
     "output_type": "stream",
     "text": [
      "[1 2]\n",
      "[3 4]\n",
      "1\n",
      "2\n",
      "3\n",
      "4\n",
      "1\n",
      "2\n",
      "3\n",
      "4\n"
     ]
    }
   ],
   "source": [
    "arr = np.array([[1, 2], [3, 4]])\n",
    "\n",
    "# Row-wise\n",
    "for row in arr:\n",
    "    print(row)\n",
    "\n",
    "# Element-wise using flat\n",
    "for elem in arr.flat:\n",
    "    print(elem)\n",
    "#nestedloop to print element wise\n",
    "for i in arr:\n",
    "    for j in i:\n",
    "        print(j)"
   ]
  },
  {
   "cell_type": "code",
   "execution_count": 5,
   "id": "df574d18-325d-4d5b-9959-dfb5d1f53504",
   "metadata": {},
   "outputs": [
    {
     "data": {
      "text/plain": [
       "array([1, 2, 3, 4])"
      ]
     },
     "execution_count": 5,
     "metadata": {},
     "output_type": "execute_result"
    }
   ],
   "source": [
    "arr.flatten()"
   ]
  },
  {
   "cell_type": "markdown",
   "id": "5cc77ca2-d222-469d-84a9-2272732c742e",
   "metadata": {},
   "source": [
    "# Broadcasting"
   ]
  },
  {
   "cell_type": "code",
   "execution_count": 11,
   "id": "8312e855-285d-4b03-9a77-75570c374af4",
   "metadata": {},
   "outputs": [
    {
     "name": "stdout",
     "output_type": "stream",
     "text": [
      "[11 12 13]\n"
     ]
    }
   ],
   "source": [
    "#Adding a scalar to an array\n",
    "a = np.array([1, 2, 3])\n",
    "b = a + 10 \n",
    "print(b)"
   ]
  },
  {
   "cell_type": "code",
   "execution_count": 12,
   "id": "6923b89e-5637-42d6-9a0c-76f3168acc9b",
   "metadata": {},
   "outputs": [
    {
     "name": "stdout",
     "output_type": "stream",
     "text": [
      "[[11 21 31]\n",
      " [12 22 32]\n",
      " [13 23 33]]\n"
     ]
    }
   ],
   "source": [
    "#Adding arrays of different shapes\n",
    "a = np.array([[1], [2], [3]])  # shape (3,1)\n",
    "b = np.array([10, 20, 30])     # shape (3,)\n",
    "c = a + b \n",
    "print(c)"
   ]
  },
  {
   "cell_type": "code",
   "execution_count": 18,
   "id": "fd18cbcf-bbb3-4a16-b0c6-e9aef775fce9",
   "metadata": {},
   "outputs": [
    {
     "name": "stdout",
     "output_type": "stream",
     "text": [
      "[[1. 2. 3.]\n",
      " [1. 2. 3.]\n",
      " [1. 2. 3.]]\n"
     ]
    }
   ],
   "source": [
    "a=np.ones((3,3))+np.arange(3)\n",
    "print(a)"
   ]
  },
  {
   "cell_type": "code",
   "execution_count": 5,
   "id": "0206a98f-fd94-4f47-900c-ea8a9dd5bad2",
   "metadata": {},
   "outputs": [
    {
     "name": "stdout",
     "output_type": "stream",
     "text": [
      "[[0 1 2]\n",
      " [1 2 3]\n",
      " [2 3 4]]\n"
     ]
    }
   ],
   "source": [
    "a=np.arange(3).reshape((3,1))+np.arange(3)\n",
    "print(a)"
   ]
  },
  {
   "cell_type": "markdown",
   "id": "10b3846d-9f53-4fe8-8e61-f493a045b16f",
   "metadata": {},
   "source": [
    "# Sorting and searching\n",
    "1. sorted()\n",
    "2. np.sort()\n",
    "3. np.argsort()"
   ]
  },
  {
   "cell_type": "code",
   "execution_count": 15,
   "id": "cd09e9da-b580-4e7a-973a-9b8631ccbb70",
   "metadata": {},
   "outputs": [
    {
     "name": "stdout",
     "output_type": "stream",
     "text": [
      "[np.int64(1), np.int64(2), np.int64(3), np.int64(4)]\n"
     ]
    }
   ],
   "source": [
    "x= np.array([4,1,2,3])\n",
    "y=sorted(x).copy()\n",
    "print(y)\n"
   ]
  },
  {
   "cell_type": "code",
   "execution_count": 18,
   "id": "ae73b124-7c9d-4b60-9155-d2f46e3107bc",
   "metadata": {},
   "outputs": [
    {
     "name": "stdout",
     "output_type": "stream",
     "text": [
      "[1 2 3 4]\n",
      "[4 3 2 1]\n"
     ]
    }
   ],
   "source": [
    "print(np.sort(x))\n",
    "#Reversing\n",
    "z=np.sort(x)\n",
    "print(z[::-1])"
   ]
  },
  {
   "cell_type": "code",
   "execution_count": 19,
   "id": "f43aa7df-3664-40a1-94b9-51829f3c0925",
   "metadata": {},
   "outputs": [
    {
     "name": "stdout",
     "output_type": "stream",
     "text": [
      "[1 2 3 0]\n"
     ]
    }
   ],
   "source": [
    "print(np.argsort(x))"
   ]
  },
  {
   "cell_type": "markdown",
   "id": "4cc19283-7827-4c76-a032-9fe3279b11bb",
   "metadata": {},
   "source": [
    "# Searching\n",
    "1. np.where()\n",
    "2. .argmax()\n",
    "3. .argmin()\n",
    "4. in\n",
    "   "
   ]
  },
  {
   "cell_type": "code",
   "execution_count": 22,
   "id": "1778064e-508f-460c-b5bb-6ec30aa9de7f",
   "metadata": {},
   "outputs": [
    {
     "data": {
      "text/plain": [
       "(array([1, 2, 3, 4]),)"
      ]
     },
     "execution_count": 22,
     "metadata": {},
     "output_type": "execute_result"
    }
   ],
   "source": [
    "x=np.array([1,2,3,4,5])\n",
    "np.where(x>=2)"
   ]
  },
  {
   "cell_type": "code",
   "execution_count": 25,
   "id": "ed3e6b37-3508-4101-9e75-48b76491ed1a",
   "metadata": {},
   "outputs": [
    {
     "name": "stdout",
     "output_type": "stream",
     "text": [
      "4\n",
      "0\n"
     ]
    }
   ],
   "source": [
    "\n",
    "print(np.argmax(x)) \n",
    "print(np.argmin(x))"
   ]
  },
  {
   "cell_type": "markdown",
   "id": "edb2c4f9-c720-4f86-9b35-40db70921499",
   "metadata": {},
   "source": [
    "# Using in with NumPy Arrays"
   ]
  },
  {
   "cell_type": "code",
   "execution_count": 5,
   "id": "5bb4910b-9816-4df3-972c-73eacc94469a",
   "metadata": {},
   "outputs": [
    {
     "name": "stdout",
     "output_type": "stream",
     "text": [
      "True\n",
      "False\n"
     ]
    }
   ],
   "source": [
    "import numpy as np\n",
    "\n",
    "arr = np.array([1, 2, 3, 4, 5])\n",
    "\n",
    "print(3 in arr)   \n",
    "print(10 in arr)  \n"
   ]
  },
  {
   "cell_type": "code",
   "execution_count": 4,
   "id": "da26285a-1197-4b42-ba4b-f691505cfdd4",
   "metadata": {},
   "outputs": [
    {
     "name": "stdout",
     "output_type": "stream",
     "text": [
      "[False  True False False  True]\n"
     ]
    }
   ],
   "source": [
    "arr = np.array([1, 2, 3, 4, 5])\n",
    "values = [2, 5, 10]\n",
    "\n",
    "result = np.isin(arr, values)\n",
    "print(result)\n"
   ]
  }
 ],
 "metadata": {
  "kernelspec": {
   "display_name": "Python 3 (ipykernel)",
   "language": "python",
   "name": "python3"
  },
  "language_info": {
   "codemirror_mode": {
    "name": "ipython",
    "version": 3
   },
   "file_extension": ".py",
   "mimetype": "text/x-python",
   "name": "python",
   "nbconvert_exporter": "python",
   "pygments_lexer": "ipython3",
   "version": "3.13.0"
  }
 },
 "nbformat": 4,
 "nbformat_minor": 5
}
